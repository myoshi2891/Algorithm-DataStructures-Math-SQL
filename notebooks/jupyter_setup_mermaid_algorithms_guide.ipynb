{
 "cells": [
  {
   "cell_type": "markdown",
   "id": "a6af9198",
   "metadata": {},
   "source": [
    "# macOS Jupyter 実行基盤 + VS Code + Mermaid + アルゴリズム（総まとめ）\n",
    "このノートは、今回の内容を **1つに統合** した実行可能ドキュメントです。"
   ]
  },
  {
   "cell_type": "markdown",
   "id": "3cdcb37d",
   "metadata": {},
   "source": [
    "## 1. 環境チェック（ターミナルで実行）\n",
    "```bash\n",
    "which pyenv && pyenv --version\n",
    "which python && pyenv which python\n",
    "pyenv install -l | grep -E \"^\\s*3\\.12\\.\"\n",
    "pyenv install 3.12.11\n",
    "mkdir -p ~/projects/algorithms && cd ~/projects/algorithms\n",
    "pyenv local 3.12.11\n",
    "python -V\n",
    "python -m venv .venv && source .venv/bin/activate\n",
    "python -m pip install --upgrade pip\n",
    "```\n"
   ]
  },
  {
   "cell_type": "markdown",
   "id": "d70b2b6b",
   "metadata": {},
   "source": [
    "## 2. プロジェクト雛形を生成（Makefile / .vscode/settings.json）"
   ]
  },
  {
   "cell_type": "code",
   "execution_count": null,
   "id": "3e8e0bb0",
   "metadata": {},
   "outputs": [],
   "source": [
    "\n",
    "# import os\n",
    "import json\n",
    "import pathlib\n",
    "base = pathlib.Path(\".\")\n",
    "(base/\".vscode\").mkdir(parents=True, exist_ok=True)\n",
    "\n",
    "makefile = \"\"\"\n",
    "# -------- Project Execution Foundation --------\n",
    "PYTHON ?= python\n",
    "VENV ?= .venv\n",
    "KERNEL ?= algo-312\n",
    "REQ ?= requirements.txt\n",
    "\n",
    ".PHONY: ensure-venv\n",
    "ensure-venv:\n",
    "\t@test -d $(VENV) || ($(PYTHON) -m venv $(VENV))\n",
    "\n",
    ".PHONY: setup\n",
    "setup: ensure-venv\n",
    "\t@. $(VENV)/bin/activate; \\\n",
    "\t$(PYTHON) -m pip install --upgrade pip; \\\n",
    "\ttest -f $(REQ) && pip install -r $(REQ) || true; \\\n",
    "\t$(PYTHON) -m ipykernel install --user --name $(KERNEL)\n",
    "\n",
    ".PHONY: install\n",
    "install: ensure-venv\n",
    "\t@. $(VENV)/bin/activate; \\\n",
    "\t$(PYTHON) -m pip install --upgrade pip; \\\n",
    "\ttest -f $(REQ) && pip install -r $(REQ) || true\n",
    "\t@which bun >/dev/null 2>&1 && bun install || echo \"bun not found (skip)\"\n",
    "\n",
    ".PHONY: lab\n",
    "lab:\n",
    "\t@. $(VENV)/bin/activate; jupyter lab\n",
    "\n",
    ".PHONY: test\n",
    "test:\n",
    "\t@. $(VENV)/bin/activate; \\\n",
    "\tpytest -q || echo \"pytest skipped/failed (install pytest?)\"\n",
    "\t@which bun >/dev/null 2>&1 && bunx vitest run || echo \"vitest skipped (bun not found)\"\n",
    "\n",
    ".PHONY: freeze\n",
    "freeze:\n",
    "\t@. $(VENV)/bin/activate; pip freeze --exclude-editable > requirements.lock.txt\n",
    "\"\"\"\n",
    "\n",
    "(base/\"Makefile\").write_text(makefile, encoding=\"utf-8\")\n",
    "\n",
    "settings = {\n",
    "  \"python.defaultInterpreterPath\": \"${workspaceFolder}/.venv/bin/python\",\n",
    "  \"jupyter.askForKernelRestart\": False,\n",
    "  \"jupyter.textOutputLimit\": 100000,\n",
    "  \"python.analysis.typeCheckingMode\": \"basic\"\n",
    "}\n",
    "(base/\".vscode\"/\"settings.json\").write_text(json.dumps(settings, indent=2), encoding=\"utf-8\")\n",
    "print(\"Generated -> ./Makefile, ./.vscode/settings.json\")\n"
   ]
  },
  {
   "cell_type": "markdown",
   "id": "9277d1a8",
   "metadata": {},
   "source": [
    "## 3. Jupyter の最小実例（表とグラフ）"
   ]
  },
  {
   "cell_type": "code",
   "execution_count": null,
   "id": "bc9bdb43",
   "metadata": {},
   "outputs": [],
   "source": [
    "\n",
    "import pandas as pd\n",
    "import numpy as np\n",
    "import matplotlib.pyplot as plt\n",
    "np.random.seed(0)\n",
    "df = pd.DataFrame({\"x\": range(1, 11), \"y\": np.random.randint(0, 100, 10)})\n",
    "display(df)\n",
    "plt.figure(figsize=(5,3))\n",
    "plt.plot(df[\"x\"], df[\"y\"], marker=\"o\")\n",
    "plt.title(\"Sample Line Plot\")\n",
    "plt.xlabel(\"x\")\n",
    "plt.ylabel(\"y\")\n",
    "plt.tight_layout()\n",
    "plt.show()\n"
   ]
  },
  {
   "cell_type": "markdown",
   "id": "41b17589",
   "metadata": {},
   "source": [
    "## 4. Mermaid（改行保持の安全版）"
   ]
  },
  {
   "cell_type": "code",
   "execution_count": null,
   "id": "be63b9fd",
   "metadata": {},
   "outputs": [],
   "source": [
    "\n",
    "from IPython.display import HTML\n",
    "html = \"\"\"\n",
    "<div>\n",
    "  <script src=\"https://cdn.jsdelivr.net/npm/mermaid@10/dist/mermaid.min.js\"></script>\n",
    "  <script>mermaid.initialize({ startOnLoad:false });</script>\n",
    "  <pre class=\"mermaid\" id=\"bs\" style=\"white-space: pre;\">\n",
    "  %%{init: {'flowchart': {'htmlLabels': false, 'curve': 'linear'}}}%%\n",
    "  flowchart TD\n",
    "    A[Start] --> B[Compute mid]\n",
    "    B --> C{A[mid] ? x}\n",
    "    C -->|equal|   D[Return mid]\n",
    "    C -->|less|    E[low = mid + 1]\n",
    "    C -->|greater| F[high = mid - 1]\n",
    "    E --> B\n",
    "    F --> B\n",
    "  </pre>\n",
    "  <script>mermaid.run({ querySelector: '#bs' });</script>\n",
    "</div>\n",
    "\"\"\"\n",
    "HTML(html)\n"
   ]
  },
  {
   "cell_type": "markdown",
   "id": "b9a9f9d3",
   "metadata": {},
   "source": [
    "## 5. SVG（静的図の生成）"
   ]
  },
  {
   "cell_type": "code",
   "execution_count": null,
   "id": "4e124fc7",
   "metadata": {},
   "outputs": [],
   "source": [
    "\n",
    "from IPython.display import SVG, display\n",
    "svg = '<svg xmlns=\"http://www.w3.org/2000/svg\" width=\"500\" height=\"180\">\\n' \\\n",
    "    + '<defs><marker id=\"arrow\" markerWidth=\"10\" markerHeight=\"10\" refX=\"6\" refY=\"3\" orient=\"auto\"><path d=\"M0,0 L0,6 L6,3 z\"/></marker></defs>' \\\n",
    "    + '<rect x=\"20\" y=\"20\" width=\"120\" height=\"40\" rx=\"6\" ry=\"6\" fill=\"white\" stroke=\"black\"/>' \\\n",
    "    + '<text x=\"80\" y=\"45\" text-anchor=\"middle\" dominant-baseline=\"middle\" font-size=\"12\">Start</text>' \\\n",
    "    + '<rect x=\"170\" y=\"20\" width=\"150\" height=\"40\" rx=\"6\" ry=\"6\" fill=\"white\" stroke=\"black\"/>' \\\n",
    "    + '<text x=\"245\" y=\"45\" text-anchor=\"middle\" dominant-baseline=\"middle\" font-size=\"12\">Compute mid</text>' \\\n",
    "    + '<polygon points=\"360,20 420,40 360,60 300,40\" fill=\"white\" stroke=\"black\"/>' \\\n",
    "    + '<text x=\"360\" y=\"40\" text-anchor=\"middle\" dominant-baseline=\"middle\" font-size=\"12\">A[mid] ? x</text>' \\\n",
    "    + '<line x1=\"140\" y1=\"40\" x2=\"170\" y2=\"40\" stroke=\"black\" marker-end=\"url(#arrow)\"/>' \\\n",
    "    + '<line x1=\"320\" y1=\"40\" x2=\"300\" y2=\"40\" stroke=\"black\" marker-end=\"url(#arrow)\"/>' \\\n",
    "    + '</svg>'\n",
    "with open('binary_search_flow.svg','w') as f:\n",
    "    f.write(svg)\n",
    "display(SVG(svg))\n",
    "print('Saved: binary_search_flow.svg')\n"
   ]
  },
  {
   "cell_type": "markdown",
   "id": "bc242c19",
   "metadata": {},
   "source": [
    "## 6. アルゴリズム：Binary Search（実装・テスト・可視化）"
   ]
  },
  {
   "cell_type": "code",
   "execution_count": null,
   "id": "8165de66",
   "metadata": {},
   "outputs": [],
   "source": [
    "\n",
    "def binary_search(a, x):\n",
    "    low, high = 0, len(a) - 1\n",
    "    while low <= high:\n",
    "        mid = (low + high) // 2\n",
    "        if a[mid] == x:\n",
    "            return mid\n",
    "        if a[mid] < x:\n",
    "            low = mid + 1\n",
    "        else:\n",
    "            high = mid - 1\n",
    "    return -1\n",
    "\n",
    "# tests\n",
    "assert binary_search([], 1) == -1\n",
    "assert binary_search([1], 1) == 0\n",
    "assert binary_search([1,2,3,4,5], 1) == 0\n",
    "assert binary_search([1,2,3,4,5], 5) == 4\n",
    "assert binary_search([1,2,3,4,5], 6) == -1\n",
    "print(\"tests: ok\")\n"
   ]
  },
  {
   "cell_type": "code",
   "execution_count": null,
   "id": "bf7e6e3e",
   "metadata": {},
   "outputs": [],
   "source": [
    "\n",
    "import matplotlib.pyplot as plt\n",
    "xs = list(range(1,21))\n",
    "ys = [binary_search(xs, k) for k in xs]\n",
    "plt.figure(figsize=(5,3))\n",
    "plt.plot(xs, ys, marker=\"o\")\n",
    "plt.title(\"Index Found vs Value (Sorted Array)\")\n",
    "plt.xlabel(\"Value\")\n",
    "plt.ylabel(\"Index\")\n",
    "plt.tight_layout()\n",
    "plt.show()\n"
   ]
  }
 ],
 "metadata": {
  "language_info": {
   "name": "python"
  }
 },
 "nbformat": 4,
 "nbformat_minor": 5
}
