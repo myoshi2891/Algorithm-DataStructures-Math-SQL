{
 "cells": [
  {
   "cell_type": "code",
   "execution_count": null,
   "id": "3d3f3e8d",
   "metadata": {},
   "outputs": [],
   "source": [
    "%matplotlib inline\n",
    "\n",
    "import numpy as np\n",
    "import matplotlib.pyplot as plt\n",
    "from numpy.typing import NDArray\n",
    "from typing import Any\n",
    "\n",
    "x: NDArray[np.floating[Any]] = np.linspace(-5, 5)\n",
    "y_1: NDArray[np.floating[Any]] = 2 * x\n",
    "y_2: NDArray[np.floating[Any]] = 3 * x\n",
    "\n",
    "# 最初にfigureとaxesを作成\n",
    "fig, ax = plt.subplots() # type: ignore[reportUnknownMemberType]\n",
    "\n",
    "ax.set_xlabel('x value', size=14) # type: ignore[reportUnknownMemberType]\n",
    "ax.set_ylabel('y value', size=14) # type: ignore[reportUnknownMemberType]\n",
    "ax.set_title('Function Graph', size=16) # type: ignore[reportUnknownMemberType]\n",
    "ax.grid() # type: ignore[reportUnknownMemberType]\n",
    "\n",
    "ax.plot(x, y_1, label=\"y1\") # type: ignore[reportUnknownMemberType]\n",
    "ax.plot(x, y_2, label=\"y2\", linestyle=\"dashed\") # type: ignore[reportUnknownMemberType]\n",
    "ax.legend() # type: ignore[reportUnknownMemberType]\n",
    "\n",
    "plt.show() # type: ignore[reportUnknownMemberType]"
   ]
  }
 ],
 "metadata": {
  "kernelspec": {
   "display_name": "myenv",
   "language": "python",
   "name": "python3"
  },
  "language_info": {
   "codemirror_mode": {
    "name": "ipython",
    "version": 3
   },
   "file_extension": ".py",
   "mimetype": "text/x-python",
   "name": "python",
   "nbconvert_exporter": "python",
   "pygments_lexer": "ipython3",
   "version": "3.10.13"
  }
 },
 "nbformat": 4,
 "nbformat_minor": 5
}
