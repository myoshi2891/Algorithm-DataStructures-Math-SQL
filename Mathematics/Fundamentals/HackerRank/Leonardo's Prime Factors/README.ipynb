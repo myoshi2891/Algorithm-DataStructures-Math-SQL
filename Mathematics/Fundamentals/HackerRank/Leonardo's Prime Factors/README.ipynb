{
  "nbformat": 4,
  "nbformat_minor": 5,
  "metadata": {
    "kernelspec": {
      "display_name": "Python 3",
      "language": "python",
      "name": "python3"
    },
    "language_info": {
      "codemirror_mode": {
        "name": "ipython",
        "version": 3
      },
      "file_extension": ".py",
      "mimetype": "text/x-python",
      "name": "python",
      "nbconvert_exporter": "python",
      "pygments_lexer": "ipython3",
      "version": "3.11.0"
    }
  },
  "cells": [
    {
      "cell_type": "markdown",
      "metadata": {},
      "source": [
        "# Leonardo loves primes（最大異なる素因数個数） - 「積は小さい素数から」一撃解法\n",
        "\n",
        "- **Platform/ID**: HackerRank – `primeCount`\n",
        "- **関数シグネチャ（HackerRank 準拠）**: `primeCount(n: int) -> int`\n",
        "- **要旨**: $n$ 以下で **相異なる素因数の個数** を最大化する整数は、$2,3,5,7,\\ldots$ を小さい順に掛けた積（**Primorial**）で達成できる。\n",
        "- よって $\\prod_{i=1}^{k} p_i \\le n$ を満たす最大の $k$ を返せばよい。"
      ]
    },
    {
      "cell_type": "markdown",
      "metadata": {},
      "source": [
        "## 目次\n",
        "\n",
        "- [概要](#overview)\n",
        "- [アルゴリズム要点 (TL;DR)](#tldr)\n",
        "- [図解](#figures)\n",
        "- [証明のスケッチ](#proof)\n",
        "- [計算量](#complexity)\n",
        "- [Python 実装（HackerRank 形式）](#impl)\n",
        "- [CPython 最適化ポイント](#cpython)\n",
        "- [エッジケースと検証](#edgecases)\n",
        "- [FAQ](#faq)"
      ]
    },
    {
      "cell_type": "markdown",
      "metadata": {},
      "source": [
        "<h2 id=\"overview\">概要</h2>\n",
        "\n",
        "- **問題要約**\n",
        "  入力 $n$ に対し、区間 $[1,n]$ の任意の整数が持ちうる **相異なる素因数の最大個数** を求める。出力は最大個数 $k$（非負整数）。\n",
        "\n",
        "- **入出力仕様（簡潔）**\n",
        "  入力: 複数クエリの各 $n$（HackerRank 側で関数が個別に呼ばれる）。\n",
        "  出力: 最大個数 $k$ を返す（`int`）。\n",
        "\n",
        "- **代表例**\n",
        "\n",
        "  | $n$ | $k$ | 備考 |\n",
        "  | :--- | :--- | :--- |\n",
        "  | $1$ | $0$ | 1には素因数がない |\n",
        "  | $500$ | $4$ | $2\\cdot3\\cdot5\\cdot7=210 \\le 500$ だが $2\\cdot3\\cdot5\\cdot7\\cdot11=2310 > 500$ |\n",
        "  | $10^{10}$ | $10$ | 最初の10個の素数の積が$10^{10}$以下。 |\n",
        "\n",
        "- **想定データ構造**\n",
        "  逐次生成される小さな素数列と、その累積積（整数ひとつ）。"
      ]
    },
    {
      "cell_type": "markdown",
      "metadata": {},
      "source": [
        "<h2 id=\"tldr\">アルゴリズム要点 (TL;DR)</h2>\n",
        "\n",
        "- **戦略**\n",
        "  小さい素数から順に掛け合わせた積（Primorial）\n",
        "\n",
        "  $$ P_k^{\\sharp} = \\prod_{i=1}^{k} p_i = p_1 \\times p_2 \\times \\cdots \\times p_k$$\n",
        "\n",
        "  が $n$ を超えない最大の $k$ が答え。直観：同じ積の大きさで「異なる素因数の数」を最大化するには、因数はできるだけ小さい素数にすべき。\n",
        "\n",
        "- **操作**\n",
        "  $P \\leftarrow 1, k \\leftarrow 0$ とし、素数列 $2,3,5,7,\\ldots$ を順に試す。\n",
        "  次の素数 $p$ について $P\\cdot p \\le n$ なら $P \\leftarrow P\\cdot p, k \\leftarrow k+1$、さもなくば停止。\n",
        "\n",
        "- **主要式（定義同値）**\n",
        "  $$\n",
        "  \\max_{1 \\le x \\le n} \\omega(x) = \\max \\left\\{ k \\mid \\prod_{i=1}^{k} p_i \\le n \\right\\}\n",
        "  $$"
      ]
    },
    {
      "cell_type": "markdown",
      "metadata": {},
      "source": [
        "<h2 id=\"figures\">図解</h2>\n",
        "\n",
        "### フローチャート（Mermaid）\n",
        "\n",
        "```mermaid\n",
        "flowchart TD\n",
        "  Start[開始]\n",
        "  InitP[累積積P=1, 個数k=0]\n",
        "  NextPrime[次の素数pを生成]\n",
        "  Check{条件 P·p <= n ?}\n",
        "  Update[更新: P=P·p, k=k+1]\n",
        "  Stop[停止してkを返す]\n",
        "  Start --> InitP\n",
        "  InitP --> NextPrime\n",
        "  NextPrime --> Check\n",
        "  Check -->|Yes| Update\n",
        "  Update --> NextPrime\n",
        "  Check -->|No| Stop\n",
        "```\n",
        "\n",
        "*説明*: 小さい素数から順に掛け、積が $n$ を超えたら直前の $k$ が答え。\n",
        "\n",
        "### データフロー（Mermaid）\n",
        "\n",
        "```mermaid\n",
        "graph LR\n",
        "  InN[入力n]\n",
        "  GenP[素数の逐次生成]\n",
        "  Mul[累積積の更新]\n",
        "  Cmp[閾値判定]\n",
        "  OutK[出力k]\n",
        "  InN --> Cmp\n",
        "  GenP --> Mul\n",
        "  Mul --> Cmp\n",
        "  Cmp --> OutK\n",
        "```\n",
        "\n",
        "*説明*: 入力 $n$ と累積積の比較で停止条件を満たしたときの $k$ を返す。\n",
        "※ 日本語が豆腐化する場合は、利用側 CSS で `.mermaid { font-family: \"Noto Sans JP\", sans-serif; }` を指定してください。"
      ]
    },
    {
      "cell_type": "markdown",
      "metadata": {},
      "source": [
        "<h2 id=\"proof\">証明のスケッチ</h2>\n",
        "\n",
        "- **主張**\n",
        "  $n$ 以下で $\\omega(x)$ を最大化する $x$ は、$x = \\prod_{i=1}^{k} p_i$（最小の $k$ 個の素数の積、Primorial）である。すなわち\n",
        "\n",
        "  $$\n",
        "  \\max_{1 \\le x \\le n} \\omega(x) = \\max\\left\\{ k \\mid \\prod_{i=1}^{k} p_i \\le n \\right\\}.\n",
        "  $$\n",
        "\n",
        "- **基底**\n",
        "  $n < 2$ のとき $x=1$ のみで $\\omega(1)=0$。よって結果は $0$。\n",
        "\n",
        "- **交換引き下げ法（直観）**\n",
        "  ある $x$ が互いに異なる素因数 $q_1 < q_2 < \\cdots < q_t$ を持つとする。\n",
        "  $q_i$ のいずれかが第 $i$ 素数 $p_i$ より大きければ、$q_i$ を $p_i$ に置き換えると $x$ は値が**小さく**なり、$\\omega(x)$ は変わらない。\n",
        "  この置換を繰り返すと、$\\omega$ を保ったまま $x$ は Primorial 以下に**最小化**できる。\n",
        "  よって $\\omega$ を最大化するには、$x$ は小さい素数から順に使うのが最適。\n",
        "\n",
        "- **終了性**\n",
        "  素数を 1 つ進めるたびに積は単調増加し、有限回で $n$ を超えるため停止。"
      ]
    },
    {
      "cell_type": "markdown",
      "metadata": {},
      "source": [
        "<h2 id=\"complexity\">計算量</h2>\n",
        "\n",
        "- **時間計算量**: $O(k\\sqrt{p_k})$（素数の逐次判定を単純試し割りで実装、$k$ は典型的に $10$〜$15$ 程度）\n",
        "- **空間計算量**: $O(1)$（累積積とカウンタのみ）\n",
        "\n",
        "> 注: $n \\le 10^{10}$ で $k=10$、$n \\le 10^{18}$ でも $k \\approx 15$ 程度に頭打ち。"
      ]
    },
    {
      "cell_type": "markdown",
      "metadata": {},
      "source": [
        "<h2 id=\"impl\">Python 実装（HackerRank 形式・型注釈付き）</h2>\n",
        "\n",
        "> HackerRank では I/O はプラットフォーム側が行い、下記の関数 `primeCount` をクエリごとに呼び出します。実装は **Pure**（副作用なし）です。"
      ]
    },
    {
      "cell_type": "code",
      "execution_count": null,
      "metadata": {},
      "outputs": [],
      "source": [
        "from __future__ import annotations\n",
        "from typing import Final\n",
        "\n",
        "def primeCount(n: int) -> int:\n",
        "    \"\"\"\n",
        "    最大の k を返す:\n",
        "      - 目的: max k s.t. Π_{i=1..k} p_i <= n（Primorial の閾値）\n",
        "      - 数学的対応: ω(x) の最大値は小さい素数からの積で達成\n",
        "        主要式: max_{1<=x<=n} ω(x) = max { k | Π_{i=1..k} p_i <= n }\n",
        "\n",
        "    実装方針:\n",
        "      1) 小さな素数を逐次生成（_is_prime の試し割り）\n",
        "      2) 累積積 P に掛けられる限り掛ける\n",
        "      3) 超えた瞬間の直前の個数が答え\n",
        "\n",
        "    時間計算量: O(k*sqrt(p_k))  (k はとても小さい)\n",
        "    空間計算量: O(1)\n",
        "    \"\"\"\n",
        "    if n < 2:\n",
        "        # n<2 では相異なる素因数を 1 個以上持つ整数が存在しない\n",
        "        return 0\n",
        "\n",
        "    def _is_prime(x: int) -> bool:\n",
        "        if x < 2:\n",
        "            return False\n",
        "        if x % 2 == 0:\n",
        "            return x == 2\n",
        "        d: int = 3\n",
        "        while d * d <= x:\n",
        "            if x % d == 0:\n",
        "                return False\n",
        "            d += 2\n",
        "        return True\n",
        "\n",
        "    def _primes():\n",
        "        # 需要分のみ動的に供給\n",
        "        yield 2\n",
        "        p: int = 3\n",
        "        while True:\n",
        "            if _is_prime(p):\n",
        "                yield p\n",
        "            p += 2  # 偶数はスキップ\n",
        "\n",
        "    count: int = 0\n",
        "    P: int = 1  # 累積積（Primorial）\n",
        "    for p in _primes():\n",
        "        # 実装と式の対応: P*p <= n が成り立つ限り k を増やす\n",
        "        if P * p > n:\n",
        "            break\n",
        "        P *= p\n",
        "        count += 1\n",
        "\n",
        "    return count"
      ]
    },
    {
      "cell_type": "markdown",
      "metadata": {},
      "source": [
        "<h2 id=\"cpython\">CPython 最適化ポイント</h2>\n",
        "\n",
        "- **分岐の早期打ち切り**: `if P * p > n: break` により無駄な素数生成を抑制。\n",
        "- **偶数スキップ**: 素数判定では `d += 2`、生成では `p += 2`。\n",
        "- **関数ローカル変数**: ループ内でのグローバル参照を避け、CPython のローカル参照最適化を享受。\n",
        "- **十分な単純性**: $k$ が小さいため、高度な素数表や高速篩は不要。\n",
        "\n",
        "> 上限がさらに大きくなる場合は、固定小素数タプル（例: 最初の 100 素数）を前計算・ハードコードする最適化も有効。"
      ]
    },
    {
      "cell_type": "markdown",
      "metadata": {},
      "source": [
        "<h2 id=\"edgecases\">エッジケースと検証</h2>\n",
        "\n",
        "| ケース | 入力例 | 期待出力 | 備考 |\n",
        "| :--- | :--- | :--- | :--- |\n",
        "| **$n < 2$** | $n=0,1$ | $0$ | 素因数を持つ数が存在しない |\n",
        "| **境界（Primorial ちょうど）** | $n = \\prod_{i=1}^{k} p_i$ | $k$ | 例: $n=210 \\Rightarrow k=4$ |\n",
        "| **直後（超える直前）** | $n = \\prod_{i=1}^{k} p_i + c$ | $k$ | 小さな $c$ でも結果は $k$ |\n",
        "| **小値** | $n=30$ | $3$ | |\n",
        "| **大値例** | $n=10^{10}$ | $10$ | |\n",
        "| **整数性** | すべて `int` | - | Python の任意精度整数によりオーバーフロー非問題 |"
      ]
    },
    {
      "cell_type": "markdown",
      "metadata": {},
      "source": [
        "<h2 id=\"faq\">FAQ</h2>\n",
        "\n",
        "- **Q. なぜ「最小の素数から」なのか？**\n",
        "  A. 同じ素因数個数で積を最小化するには小さい素数を選ぶのが最適。大きい素数を小さい素数に置換すると積が減り、$n$ の制約を満たしやすくなる。\n",
        "\n",
        "- **Q. エラトステネスの篩は使わないの？**\n",
        "  A. 必要な素数個数 $k$ が非常に小さいため、逐次の試し割りが最速かつ実装が簡潔。篩の初期コストが支配的になりがち。\n",
        "\n",
        "- **Q. $n$ が巨大な場合の上限は？**\n",
        "  A. $10^{18}$ 級でも $k$ は十数個。Primorial の成長が速く、実務でも逐次法で十分。\n",
        "\n",
        "- **Q. 返り値 $k$ の直観的意味は？**\n",
        "  A. $n$ 以下で「異なる素因数を $k$ 個持つ最大の可能性」を与える個数。該当例は $x=\\prod_{i=1}^{k} p_i$ が代表。"
      ]
    }
  ]
}
